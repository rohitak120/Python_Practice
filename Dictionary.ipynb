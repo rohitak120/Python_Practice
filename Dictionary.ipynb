{
 "cells": [
  {
   "cell_type": "markdown",
   "id": "8c6251ad-8d23-493d-b671-864002c2b553",
   "metadata": {},
   "source": [
    "# Dictionary in Python:\n",
    "> If we want to represent a group of object as 'key value pair' then we should go for 'dict' datatype.\n",
    "> Key are not allowed but value can be duplicated.\n",
    "> It maintains insertion order.\n",
    "> dict is a mutable datatype."
   ]
  },
  {
   "cell_type": "code",
   "execution_count": 1,
   "id": "5287390b-94f7-4ff8-8bbd-dd0c74636806",
   "metadata": {},
   "outputs": [
    {
     "name": "stdout",
     "output_type": "stream",
     "text": [
      "{101: 'Aditi', 102: 'Deepak', 103: 'Kishan', 104: 'Ishita'}\n",
      "<class 'dict'>\n"
     ]
    }
   ],
   "source": [
    "d = {101:\"Aditi\", 102:\"Deepak\", 103:\"Kishan\", 104:\"Ishita\"}\n",
    "print(d)\n",
    "print(type(d))"
   ]
  },
  {
   "cell_type": "code",
   "execution_count": 2,
   "id": "4c86db9f-608c-4ceb-8c30-ba6f261f0cdd",
   "metadata": {},
   "outputs": [
    {
     "name": "stdout",
     "output_type": "stream",
     "text": [
      "{101: 1000, 'aditi': 20, True: 12.44}\n",
      "<class 'dict'>\n"
     ]
    }
   ],
   "source": [
    "d = {101:1000, \"aditi\":20, True:12.44}\n",
    "print(d)\n",
    "print(type(d))"
   ]
  },
  {
   "cell_type": "code",
   "execution_count": 3,
   "id": "2c5149be-1868-4c84-9339-4a1f04d1f2f1",
   "metadata": {},
   "outputs": [
    {
     "name": "stdout",
     "output_type": "stream",
     "text": [
      "{101: 1000, 'aditi': 20, True: 12.44, 103: 'Raj'}\n"
     ]
    }
   ],
   "source": [
    "# Add data in dictionary\n",
    "d[103]=\"Raj\"\n",
    "print(d)"
   ]
  },
  {
   "cell_type": "code",
   "execution_count": 6,
   "id": "53b51350-5c7a-4c81-95ff-1ef9c83407dc",
   "metadata": {},
   "outputs": [
    {
     "name": "stdout",
     "output_type": "stream",
     "text": [
      "{101: 'Ananya', 'aditi': 20, True: 12.44, 103: 'Raj'}\n"
     ]
    }
   ],
   "source": [
    "# replace:\n",
    "d[101]= \"Ananya\"\n",
    "print(d)"
   ]
  },
  {
   "cell_type": "code",
   "execution_count": 8,
   "id": "461ad750-030c-48cd-baed-058635b69f2d",
   "metadata": {},
   "outputs": [
    {
     "name": "stdout",
     "output_type": "stream",
     "text": [
      "{1: 'Aditi', 102: 'Deepak', 203: 'Kishan', 5: 'Ishita'}\n",
      "{1: 'Shona', 102: 'Deepak', 203: 'Kishan', 5: 'Ishita', 999: 'Amit', 888: 'Sumit', 777: 'Akash'}\n"
     ]
    }
   ],
   "source": [
    "d = {1:\"Aditi\", 102:\"Deepak\", 203:\"Kishan\", 5: \"Ishita\"}\n",
    "print(d)\n",
    "d[999]=\"Amit\"\n",
    "d[888]=\"Sumit\"\n",
    "d[777]=\"Akash\"\n",
    "d[1]=\"Shona\" # replace Aditi\n",
    "print(d)"
   ]
  },
  {
   "cell_type": "markdown",
   "id": "f7589198-b7a7-4f36-a66c-77ad859b5db2",
   "metadata": {},
   "source": [
    "# Dictionary Data Structure:\n",
    "> If we want to represent a group of object as key value pair then we go for dict.\n",
    "> Indexing and slicing is not applicable."
   ]
  },
  {
   "cell_type": "code",
   "execution_count": 9,
   "id": "a68e0d6b-696b-4d02-8a0b-6c904a9b830d",
   "metadata": {},
   "outputs": [
    {
     "name": "stdout",
     "output_type": "stream",
     "text": [
      "<class 'dict'>\n"
     ]
    }
   ],
   "source": [
    "d = {}\n",
    "print(type(d))"
   ]
  },
  {
   "cell_type": "code",
   "execution_count": 10,
   "id": "2657dd8f-0aff-4f5d-b505-74b8700c0ae1",
   "metadata": {},
   "outputs": [
    {
     "name": "stdout",
     "output_type": "stream",
     "text": [
      "<class 'dict'>\n"
     ]
    }
   ],
   "source": [
    "d = dict()\n",
    "print(type(d))"
   ]
  },
  {
   "cell_type": "code",
   "execution_count": 13,
   "id": "d5b49a67-ae73-4bde-aa12-7bb673c1adc1",
   "metadata": {},
   "outputs": [
    {
     "name": "stdout",
     "output_type": "stream",
     "text": [
      "{100: 'Rajeev', 200: 'Akash', 300: 'Sanjeev', 5: 'Rajeev'}\n",
      "{100: 'Mansi', 200: 'Akash', 300: 'Sanjeev', 5: 'Rajeev'}\n"
     ]
    }
   ],
   "source": [
    "d = {}\n",
    "# d[key]=value\n",
    "d[100]=\"Rajeev\"\n",
    "d[200]=\"Akash\"\n",
    "d[300]=\"Sanjeev\"\n",
    "d[5]=\"Rajeev\"\n",
    "print(d)\n",
    "d[100]=\"Mansi\"\n",
    "print(d)"
   ]
  },
  {
   "cell_type": "markdown",
   "id": "c3664e09-a407-4760-87e8-9f41cc2233dd",
   "metadata": {},
   "source": [
    "# How to access data from the dictionary"
   ]
  },
  {
   "cell_type": "code",
   "execution_count": 15,
   "id": "88873b73-4b1e-4124-921f-e683d59e16ae",
   "metadata": {},
   "outputs": [
    {
     "name": "stdout",
     "output_type": "stream",
     "text": [
      "Rajeev\n",
      "Rajeev\n"
     ]
    }
   ],
   "source": [
    "d = {10:\"Rajeev\",1:\"Sanjay\",300:\"Akash\",5:\"Rajeev\"}\n",
    "print(d[10])\n",
    "print(d[5])\n",
    "# print(d[1000]) # KeyError"
   ]
  },
  {
   "cell_type": "code",
   "execution_count": 17,
   "id": "c9ef30f7-e815-4307-b464-13c585e6dd82",
   "metadata": {},
   "outputs": [
    {
     "name": "stdin",
     "output_type": "stream",
     "text": [
      "Enter the any key 23\n"
     ]
    },
    {
     "name": "stdout",
     "output_type": "stream",
     "text": [
      "Key is not Found\n"
     ]
    }
   ],
   "source": [
    "d = {10:\"Rajeev\",1:\"Sanjay\",300:\"Akash\",5:\"Rajeev\"}\n",
    "key = int(input(\"Enter the any key\"))\n",
    "if key in d:\n",
    "    print(d[key])\n",
    "\n",
    "else:\n",
    "    print(\"Key is not Found\")"
   ]
  },
  {
   "cell_type": "markdown",
   "id": "7c7542f6-9f06-4d04-9277-f39fc6b28901",
   "metadata": {},
   "source": [
    "# how to update dictionary\n",
    "Note:\n",
    "> If the key is not available then a new entry will be added to the dictionary with the specified key value pair.\n",
    "> If the key is already avaiable then old value will be replaced with new value.\n",
    "> Entry -> key-value pair\n",
    "> Entry -> Set of multiple entry"
   ]
  },
  {
   "cell_type": "code",
   "execution_count": 18,
   "id": "01758b55-af67-4301-9602-30498b80dea6",
   "metadata": {},
   "outputs": [
    {
     "name": "stdout",
     "output_type": "stream",
     "text": [
      "{10: 'Rajeev', 1: 'Sanjay', 300: 'Akash', 5: 'Rajeev'}\n"
     ]
    },
    {
     "name": "stdin",
     "output_type": "stream",
     "text": [
      "Enter the any key 112\n",
      "Enter the any value Rakesh\n"
     ]
    },
    {
     "name": "stdout",
     "output_type": "stream",
     "text": [
      "{10: 'Rajeev', 1: 'Sanjay', 300: 'Akash', 5: 'Rajeev', 112: 'Rakesh'}\n"
     ]
    }
   ],
   "source": [
    "d = {10:\"Rajeev\",1:\"Sanjay\",300:\"Akash\",5:\"Rajeev\"}\n",
    "print(d)\n",
    "key = int(input(\"Enter the any key\"))\n",
    "value = input(\"Enter the any value\")\n",
    "d[key]= value\n",
    "print(d)"
   ]
  },
  {
   "cell_type": "markdown",
   "id": "444b8a29-996b-4801-8330-7e7a5c445508",
   "metadata": {},
   "source": [
    "# How to delete elements from dictionary.\n",
    "> del d[key]"
   ]
  },
  {
   "cell_type": "code",
   "execution_count": 24,
   "id": "92a8a788-4b65-4882-8763-90c56e700c41",
   "metadata": {},
   "outputs": [
    {
     "name": "stdout",
     "output_type": "stream",
     "text": [
      "{10: 'Rajeev', 1: 'Sanjay', 300: 'Akash', 5: 'Rajeev'}\n",
      "{10: 'Rajeev', 1: 'Sanjay', 5: 'Rajeev'}\n"
     ]
    }
   ],
   "source": [
    "d = {10:\"Rajeev\",1:\"Sanjay\",300:\"Akash\",5:\"Rajeev\"}\n",
    "print(d)\n",
    "# if key is found then specified entry will be removed.\n",
    "del d[300]\n",
    "print(d)\n",
    "\n",
    "# You will get KeyError if specified key is not found.\n",
    "# del d[3000] # key error"
   ]
  },
  {
   "cell_type": "markdown",
   "id": "22a073c2-d745-4c7d-866b-e05f72f7bba5",
   "metadata": {},
   "source": [
    "> To remove all entry from the dictionary we can use clear() method."
   ]
  },
  {
   "cell_type": "code",
   "execution_count": 25,
   "id": "59752b63-a239-477d-a388-7d7c47443ed5",
   "metadata": {},
   "outputs": [
    {
     "name": "stdout",
     "output_type": "stream",
     "text": [
      "{}\n"
     ]
    }
   ],
   "source": [
    "d.clear()\n",
    "print(d)"
   ]
  },
  {
   "cell_type": "code",
   "execution_count": null,
   "id": "015cb9fc-8dc2-4c23-b85d-8d3c008d77cb",
   "metadata": {},
   "outputs": [],
   "source": [
    "d = {10:\"Rajeev\",1:\"Sanjay\",300:\"Akash\",5:\"Rajeev\"}\n",
    "print(d)\n"
   ]
  },
  {
   "cell_type": "markdown",
   "id": "40ecabdb-5293-476b-a1d0-f0838824fbf8",
   "metadata": {},
   "source": [
    "# Important function of dictionary:\n",
    "1. dict()\n",
    "2. len()\n",
    "3. clear()\n",
    "4. get()\n",
    "5. pop()\n",
    "6. popitem()\n",
    "7. keys()\n",
    "8. values()\n",
    "9. items()\n",
    "10. copy()\n",
    "11. setdefault()\n",
    "12. update()"
   ]
  },
  {
   "cell_type": "code",
   "execution_count": 27,
   "id": "36358a8d-4d66-4e5a-ad58-5024a1bc8b7d",
   "metadata": {},
   "outputs": [
    {
     "name": "stdout",
     "output_type": "stream",
     "text": [
      "{10: 'Rajeev', 1: 'Sanjeev', 300: 'Akash', 5: 'Rajeev'}\n",
      "4\n"
     ]
    }
   ],
   "source": [
    "# len(): Returns the number of entry/item in the dictionary.\n",
    "\n",
    "d = {10:\"Rajeev\",1:\"Sanjeev\",300:\"Akash\",5:\"Rajeev\"}\n",
    "print(d)\n",
    "print(len(d))"
   ]
  },
  {
   "cell_type": "code",
   "execution_count": 29,
   "id": "79cebe06-217e-4b74-bd75-401bc2a81d97",
   "metadata": {},
   "outputs": [
    {
     "name": "stdout",
     "output_type": "stream",
     "text": [
      "Rajeev\n",
      "Rajeev\n",
      "None\n",
      "Key Not Found\n"
     ]
    }
   ],
   "source": [
    "# get(): get(key), get(key,\"Default Value\")\n",
    "d = {10:\"Rajeev\",1:\"Sanjeev\",300:\"Akash\",5:\"Rajeev\"}\n",
    "print(d[10])\n",
    "print(d.get(10)) \n",
    "print(d.get(200)) #None\n",
    "# print(d[200]) # KeyError\n",
    "print(d.get(101,\"Key Not Found\"))\n"
   ]
  },
  {
   "cell_type": "code",
   "execution_count": 33,
   "id": "273e9484-9f21-4448-801d-8521df77ebf1",
   "metadata": {},
   "outputs": [
    {
     "name": "stdout",
     "output_type": "stream",
     "text": [
      "{10: 'Rajeev', 1: 'Sanjeev', 300: 'Akash', 5: 'Rajeev'}\n",
      "Akash\n",
      "{10: 'Rajeev', 1: 'Sanjeev', 5: 'Rajeev'}\n"
     ]
    }
   ],
   "source": [
    "# pop():\n",
    "d = {10:\"Rajeev\",1:\"Sanjeev\",300:\"Akash\",5:\"Rajeev\"}\n",
    "print(d)\n",
    "print(d.pop(300))\n",
    "print(d)\n",
    "# print(d.pop(301)) # KeyError"
   ]
  },
  {
   "cell_type": "code",
   "execution_count": 35,
   "id": "4d85edb7-61d0-4e20-86db-f67ad321edec",
   "metadata": {},
   "outputs": [
    {
     "name": "stdout",
     "output_type": "stream",
     "text": [
      "{10: 'Rajeev', 1: 'Sanjeev', 300: 'Akash', 5: 'Rajeev'}\n",
      "(5, 'Rajeev')\n",
      "{10: 'Rajeev', 1: 'Sanjeev', 300: 'Akash'}\n"
     ]
    }
   ],
   "source": [
    "# popitem(): Based on LIFO (remove and returns key-value pair )\n",
    "d = {10:\"Rajeev\",1:\"Sanjeev\",300:\"Akash\",5:\"Rajeev\"}\n",
    "print(d)\n",
    "print(d.popitem())\n",
    "print(d)"
   ]
  },
  {
   "cell_type": "code",
   "execution_count": 38,
   "id": "1a58d434-6b0b-4f6c-a28f-1caff9af45ea",
   "metadata": {},
   "outputs": [
    {
     "name": "stdout",
     "output_type": "stream",
     "text": [
      "{10: 'Rajeev', 1: 'Sanjeev', 300: 'Akash', 5: 'Rajeev'}\n",
      "dict_keys([10, 1, 300, 5])\n",
      "10\n",
      "1\n",
      "300\n",
      "5\n"
     ]
    }
   ],
   "source": [
    "# keys():\n",
    "d = {10:\"Rajeev\",1:\"Sanjeev\",300:\"Akash\",5:\"Rajeev\"}\n",
    "print(d)\n",
    "print(d.keys())\n",
    "for i in d.keys():\n",
    "    print(i)"
   ]
  },
  {
   "cell_type": "code",
   "execution_count": 39,
   "id": "0debd5e0-feec-46eb-8326-0eeca5a124cb",
   "metadata": {},
   "outputs": [
    {
     "name": "stdout",
     "output_type": "stream",
     "text": [
      "{10: 'Rajeev', 1: 'Sanjeev', 300: 'Akash', 5: 'Rajeev'}\n",
      "dict_values(['Rajeev', 'Sanjeev', 'Akash', 'Rajeev'])\n",
      "Rajeev\n",
      "Sanjeev\n",
      "Akash\n",
      "Rajeev\n"
     ]
    }
   ],
   "source": [
    "# values():\n",
    "d = {10:\"Rajeev\",1:\"Sanjeev\",300:\"Akash\",5:\"Rajeev\"}\n",
    "print(d)\n",
    "print(d.values())\n",
    "for i in d.values():\n",
    "    print(i)"
   ]
  },
  {
   "cell_type": "code",
   "execution_count": 40,
   "id": "5c05914f-9e70-422b-8d75-5a6212ac995c",
   "metadata": {},
   "outputs": [
    {
     "name": "stdout",
     "output_type": "stream",
     "text": [
      "{10: 'Rajeev', 1: 'Sanjeev', 300: 'Akash', 5: 'Rajeev'}\n",
      "dict_items([(10, 'Rajeev'), (1, 'Sanjeev'), (300, 'Akash'), (5, 'Rajeev')])\n",
      "10 = Rajeev\n",
      "1 = Sanjeev\n",
      "300 = Akash\n",
      "5 = Rajeev\n"
     ]
    }
   ],
   "source": [
    "# items(): to print keys and values both\n",
    "d = {10:\"Rajeev\",1:\"Sanjeev\",300:\"Akash\",5:\"Rajeev\"}\n",
    "print(d)\n",
    "print(d.items())\n",
    "for i,j in d.items():\n",
    "    print(i,\"=\",j)"
   ]
  },
  {
   "cell_type": "code",
   "execution_count": 42,
   "id": "7050b9af-8017-4576-907a-c09dec8b125c",
   "metadata": {},
   "outputs": [
    {
     "name": "stdout",
     "output_type": "stream",
     "text": [
      "{10: 'Rajeev', 1: 'Sanjeev', 300: 'Akash', 5: 'Rajeev'}\n",
      "{10: 'Rajeev', 1: 'Sanjeev', 300: 'Akash', 5: 'Rajeev'}\n",
      "2359276960960\n",
      "2359269844608\n"
     ]
    }
   ],
   "source": [
    "# copy():\n",
    "d = {10:\"Rajeev\",1:\"Sanjeev\",300:\"Akash\",5:\"Rajeev\"}\n",
    "d1=d.copy()\n",
    "print(d)\n",
    "print(d1)\n",
    "print(id(d))\n",
    "print(id(d1))"
   ]
  },
  {
   "cell_type": "markdown",
   "id": "60341eab-288f-42a7-9cb0-09ea21b414a2",
   "metadata": {},
   "source": [
    "# setdefault: setdefault check only keys\n",
    ">If  the key is already available then this function returns the corresponding value.\n",
    ">If the key is not available then the specified key value will be added as new item to the dictionary.\n",
    ">If we pass only key as argument the setdefault function automatically pass None value corresponding to the passing key."
   ]
  },
  {
   "cell_type": "code",
   "execution_count": 47,
   "id": "93614f93-983c-43d9-a894-2e6a8656c49e",
   "metadata": {},
   "outputs": [
    {
     "name": "stdout",
     "output_type": "stream",
     "text": [
      "{10: 'Rajeev', 1: 'Sanjeev', 300: 'Akash', 5: 'Rajeev'}\n",
      "Sanjeev\n",
      "Sanjeev24\n",
      "None\n",
      "{10: 'Rajeev', 1: 'Sanjeev', 300: 'Akash', 5: 'Rajeev', 100: 'Sanjeev24', 8: None}\n"
     ]
    }
   ],
   "source": [
    "d = {10:\"Rajeev\",1:\"Sanjeev\",300:\"Akash\",5:\"Rajeev\"}\n",
    "print(d)\n",
    "print(d.setdefault(1,\"Sanjeev\"))\n",
    "print(d.setdefault(100,\"Sanjeev24\"))\n",
    "print(d.setdefault(8))\n",
    "print(d)"
   ]
  },
  {
   "cell_type": "code",
   "execution_count": 49,
   "id": "a5e63ad7-e2d0-40d8-a779-55e15ce69d9b",
   "metadata": {},
   "outputs": [
    {
     "name": "stdout",
     "output_type": "stream",
     "text": [
      "{50: 'Sanjay'}\n",
      "{50: 'Sanjay', 10: 'Rajeev', 1: 'Sanjeev', 300: 'Akash'}\n"
     ]
    }
   ],
   "source": [
    "# update():\n",
    "d = {10:\"Rajeev\",1:\"Sanjeev\",300:\"Akash\"}\n",
    "d1= {50:\"Sanjay\"}\n",
    "print(d1)\n",
    "d1.update(d)\n",
    "print(d1)\n",
    "# Note: All items present in the dictionary d will be added to dictionary d1."
   ]
  }
 ],
 "metadata": {
  "kernelspec": {
   "display_name": "Python 3 (ipykernel)",
   "language": "python",
   "name": "python3"
  },
  "language_info": {
   "codemirror_mode": {
    "name": "ipython",
    "version": 3
   },
   "file_extension": ".py",
   "mimetype": "text/x-python",
   "name": "python",
   "nbconvert_exporter": "python",
   "pygments_lexer": "ipython3",
   "version": "3.11.5"
  }
 },
 "nbformat": 4,
 "nbformat_minor": 5
}
