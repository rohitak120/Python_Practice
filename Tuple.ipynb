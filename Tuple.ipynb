{
 "cells": [
  {
   "cell_type": "markdown",
   "id": "8972b071-deb6-4c42-9f68-6bde4bb6349e",
   "metadata": {},
   "source": [
    "# Tuple : \n",
    "1. Tuple is the read only version of the list.\n",
    "2. Tuple is immutable.\n",
    "3. Values should be enclosed within parenthesis.\n",
    "4. Hetrogeneous objects are allowed.\n",
    "5. Duplicates are allowed."
   ]
  },
  {
   "cell_type": "code",
   "execution_count": 1,
   "id": "bbecb694-aaa4-4b76-8b1f-5cff80276c25",
   "metadata": {},
   "outputs": [
    {
     "name": "stdout",
     "output_type": "stream",
     "text": [
      "<class 'tuple'>\n",
      "('Rohit', 'Shweta', 100, True, 100.99, False, 24.24, 78, 941, 'Monkey')\n",
      "Rohit\n",
      "(True, 100.99, False, 24.24, 78)\n",
      "(100.99, False, 24.24, 78, 941, 'Monkey')\n",
      "(100, True, 100.99, False, 24.24, 78, 941)\n",
      "(100, True)\n"
     ]
    }
   ],
   "source": [
    "t = (\"Rohit\", \"Shweta\",100,True,100.99,False,24.24,78,941,\"Monkey\")\n",
    "print(type(t))\n",
    "print(t)\n",
    "print(t[0])\n",
    "print(t[3:8])\n",
    "print(t[-6:])\n",
    "print(t[2:-1])\n",
    "print(t[2:4])"
   ]
  },
  {
   "cell_type": "markdown",
   "id": "c1228099-45bb-48b8-bb3e-24278ff09c36",
   "metadata": {},
   "source": [
    "1. Parenthesis is optional in tuple\n",
    "2. we must add comma(,) in the tuple otherwise it will be in 'int'.\n",
    "3. we can represent tuple element with parenthesis and with comma seperator. Parenthesis are optional but recomended to use."
   ]
  },
  {
   "cell_type": "code",
   "execution_count": 2,
   "id": "54860cf0-7ebc-4dd8-afba-c5ad841af263",
   "metadata": {},
   "outputs": [
    {
     "name": "stdout",
     "output_type": "stream",
     "text": [
      "<class 'tuple'>\n",
      "<class 'int'>\n"
     ]
    }
   ],
   "source": [
    "Tuple0 = (10,)\n",
    "Tuple1 = (10)\n",
    "print(type(Tuple0))\n",
    "print(type(Tuple1))"
   ]
  },
  {
   "cell_type": "markdown",
   "id": "3a961f31-5f40-40d5-83c1-6bb6831d7dba",
   "metadata": {},
   "source": [
    "# Note: \n",
    "we have to take special care about single valued tuple. Compulsory the value should ends with comma(,) otherwise it is not treated as tuple."
   ]
  },
  {
   "cell_type": "code",
   "execution_count": 3,
   "id": "568f5164-f5af-4c8d-abee-01cf293624d7",
   "metadata": {},
   "outputs": [
    {
     "name": "stdout",
     "output_type": "stream",
     "text": [
      "<class 'tuple'>\n",
      "<class 'tuple'>\n",
      "<class 'tuple'>\n",
      "<class 'tuple'>\n",
      "<class 'tuple'>\n",
      "<class 'tuple'>\n"
     ]
    }
   ],
   "source": [
    "Tuple1 = ('Trees',)\n",
    "print(type(Tuple1))\n",
    "Tuple1 = ()\n",
    "print(type(Tuple1))\n",
    "Tuple1=(10,)\n",
    "print(type(Tuple1))\n",
    "Tuple1 = 10,\n",
    "print(type(Tuple1))\n",
    "Tuple1 = (10,20,30)\n",
    "print(type(Tuple1))\n",
    "Tuple1 = 10,20,30\n",
    "print(type(Tuple1))"
   ]
  },
  {
   "cell_type": "markdown",
   "id": "c7e44068-671d-4e43-9b8f-1dba8f82e0c2",
   "metadata": {},
   "source": [
    "# Conversion of list to tuple"
   ]
  },
  {
   "cell_type": "code",
   "execution_count": 4,
   "id": "a40249e2-4f85-4c80-a360-4c95b67e5ba1",
   "metadata": {
    "scrolled": true
   },
   "outputs": [
    {
     "name": "stdout",
     "output_type": "stream",
     "text": [
      "<class 'tuple'>\n",
      "140705391271056\n",
      "2076216655776\n"
     ]
    }
   ],
   "source": [
    "my_list = [10,20,30,40,50,60]\n",
    "t = tuple(my_list)\n",
    "print(type(t))\n",
    "print(id(list))\n",
    "print(id(t))"
   ]
  },
  {
   "cell_type": "markdown",
   "id": "248cf67e-1f3b-4ce6-bcdd-1a2178f82b97",
   "metadata": {},
   "source": [
    "# Accessing elements of tuple:\n",
    "1. By using index\n",
    "2. By using slice operator"
   ]
  },
  {
   "cell_type": "code",
   "execution_count": 5,
   "id": "584c627c-6636-47fb-ad8b-3339513c5182",
   "metadata": {},
   "outputs": [
    {
     "name": "stdout",
     "output_type": "stream",
     "text": [
      "(10, 20, 30, 40, 50, 60)\n"
     ]
    }
   ],
   "source": [
    "# Type vs immutability\n",
    "t1 = (10,20,30,40)\n",
    "# t1[1] = 100 # TypeError: 'tuple' object does not support item assignment\n",
    "print(t)\n"
   ]
  },
  {
   "cell_type": "markdown",
   "id": "323b0ab5-f35d-4f81-9c7d-6445e8d3feaf",
   "metadata": {},
   "source": [
    "# Mathematical operator for tuple:\n",
    "1. +\n",
    "2. *"
   ]
  },
  {
   "cell_type": "code",
   "execution_count": 6,
   "id": "3731fee9-e6f7-460b-bae7-2586abc22565",
   "metadata": {},
   "outputs": [
    {
     "name": "stdout",
     "output_type": "stream",
     "text": [
      "(10, 20, 30, 40, 100, 300, 200, 800)\n",
      "<class 'tuple'>\n"
     ]
    }
   ],
   "source": [
    "a = (10,20,30,40)\n",
    "b = (100,300,200,800)\n",
    "c = a+b\n",
    "print(c)\n",
    "print(type(c))"
   ]
  },
  {
   "cell_type": "code",
   "execution_count": 7,
   "id": "20318793-e2e2-42b9-8324-6b97365c2787",
   "metadata": {},
   "outputs": [
    {
     "name": "stdout",
     "output_type": "stream",
     "text": [
      "(10, 20, 30, 40, 10, 20, 30, 40, 10, 20, 30, 40, 10, 20, 30, 40)\n",
      "<class 'tuple'>\n"
     ]
    }
   ],
   "source": [
    "a = (10,20,30,40)\n",
    "d = a*4\n",
    "print(d)\n",
    "print(type(d))"
   ]
  },
  {
   "cell_type": "markdown",
   "id": "192d66fb-4c83-4582-9db0-c957b00187ce",
   "metadata": {},
   "source": [
    "# Important function of Tuple:\n",
    "1. len()\n",
    "2. count()\n",
    "3. index()\n",
    "4. sorted()\n",
    "5. min()\n",
    "6. max() etc."
   ]
  },
  {
   "cell_type": "code",
   "execution_count": 8,
   "id": "a63d8d62-ee46-47b5-82ec-166f575ad156",
   "metadata": {},
   "outputs": [
    {
     "name": "stdout",
     "output_type": "stream",
     "text": [
      "length of tuple is: 10\n",
      "(10, 20, 20, 30, 30, 30, 40, 40, 50, 60)\n"
     ]
    }
   ],
   "source": [
    "# len(): to find the length of tuple.\n",
    "tpl = (10, 20, 20, 30, 30, 30, 40, 40, 50, 60)\n",
    "print(\"length of tuple is:\", len(tpl))\n",
    "print(tpl)"
   ]
  },
  {
   "cell_type": "code",
   "execution_count": 9,
   "id": "35e0c34f-374c-4973-a362-dc0c27d7bc93",
   "metadata": {},
   "outputs": [
    {
     "name": "stdout",
     "output_type": "stream",
     "text": [
      "(10, 20, 20, 30, 30, 30, 40, 40, 50, 60)\n",
      "2\n"
     ]
    }
   ],
   "source": [
    "# count(): to count the occurance of an element in the tuple.\n",
    "print(tpl)\n",
    "y = tpl.count(20)\n",
    "print(y)"
   ]
  },
  {
   "cell_type": "code",
   "execution_count": 10,
   "id": "002ef5cd-3680-4891-971a-ca98dae5c30d",
   "metadata": {},
   "outputs": [
    {
     "name": "stdout",
     "output_type": "stream",
     "text": [
      "(10, 20, 20, 30, 30, 30, 40, 40, 50, 60)\n",
      "8\n"
     ]
    }
   ],
   "source": [
    "# index(): to get the index of an element from a given tuple.\n",
    "print(tpl)\n",
    "y = tpl.index(50)\n",
    "print(y)"
   ]
  },
  {
   "cell_type": "code",
   "execution_count": 11,
   "id": "4e340761-4ab1-40c7-b4f4-cfc86873a77b",
   "metadata": {},
   "outputs": [
    {
     "name": "stdout",
     "output_type": "stream",
     "text": [
      "[3, 10, 20, 22, 30, 35, 60, 60, 70, 90, 95]\n"
     ]
    }
   ],
   "source": [
    "# sorted(): The sorted() function returns a sorted list of the specified iterable object.\n",
    "# You can specify ascending or descending order.\n",
    "# Strings are sorted alphabetically, and numbers are sorted numerically.\n",
    "# Note: You cannot sort a list that contains BOTH string values AND numeric values.\n",
    "# Syntax: sorted(iterable, key=key, reverse=reverse)\n",
    "# iterable\tRequired. The sequence to sort, list, dictionary, tuple etc.\n",
    "# key\tOptional. A Function to execute to decide the order. Default is None\n",
    "# reverse\tOptional. A Boolean. \n",
    "# False will sort ascending, True will sort descending. Default is False\n",
    "tpl = (10, 20, 35, 95, 22, 3, 30, 90, 60, 70, 60)\n",
    "a =sorted(tpl)\n",
    "print(a)"
   ]
  },
  {
   "cell_type": "code",
   "execution_count": 12,
   "id": "7e282394-2db9-486d-81f2-ca81a003d46a",
   "metadata": {},
   "outputs": [
    {
     "name": "stdout",
     "output_type": "stream",
     "text": [
      "(10, 20, 35, 95, 22, 3, 30, 90, 60, 70, 60)\n",
      "Minimum value of the element in the tuple is: 3\n"
     ]
    }
   ],
   "source": [
    "# min(): to find the minimum element in the tuple.\n",
    "print(tpl)\n",
    "print(\"Minimum value of the element in the tuple is:\",min(tpl))"
   ]
  },
  {
   "cell_type": "code",
   "execution_count": 13,
   "id": "086f1e1d-8956-4700-9ec5-b72de32a04a0",
   "metadata": {},
   "outputs": [
    {
     "name": "stdout",
     "output_type": "stream",
     "text": [
      "(10, 20, 35, 95, 22, 3, 30, 90, 60, 70, 60)\n",
      "Maximum value of the element in the tuple is: 95\n"
     ]
    }
   ],
   "source": [
    "# max(): to find the maximum element in the tuple.\n",
    "print(tpl)\n",
    "print(\"Maximum value of the element in the tuple is:\",max(tpl))"
   ]
  },
  {
   "cell_type": "markdown",
   "id": "e21a6153-113b-40e6-a724-862a1e8ea1cf",
   "metadata": {},
   "source": [
    "# Tuple Packing and Unpacking:\n",
    "we can create a tuple by packing a group of variables."
   ]
  },
  {
   "cell_type": "code",
   "execution_count": 14,
   "id": "77e1cd36-e476-4651-a764-d694df36ed78",
   "metadata": {},
   "outputs": [
    {
     "name": "stdout",
     "output_type": "stream",
     "text": [
      "<class 'tuple'>\n",
      "(10, 20, 30, 40)\n"
     ]
    }
   ],
   "source": [
    "a = 10 \n",
    "b = 20\n",
    "c = 30\n",
    "d = 40\n",
    "t = a,b,c,d\n",
    "print(type(t))\n",
    "print(t)\n",
    "\n",
    "#NOTE: here abcd are packed into a tuple t. This is nothing but tuple packing."
   ]
  },
  {
   "cell_type": "markdown",
   "id": "a3414361-74f0-4036-8270-e3353908f8cc",
   "metadata": {},
   "source": [
    "# Tuple Unpacking:\n",
    "It is the reverse process of tuple packing.\n",
    "We can unpack a tuple and assign its value to different variables."
   ]
  },
  {
   "cell_type": "code",
   "execution_count": 15,
   "id": "f8a71fb1-cef0-4a44-b860-3681795ccf32",
   "metadata": {},
   "outputs": [
    {
     "name": "stdout",
     "output_type": "stream",
     "text": [
      "a= 10 b= 20 c= 30 d= 40\n"
     ]
    }
   ],
   "source": [
    "my_tuple = (10, 20, 30, 40)\n",
    "a,b,c,d = t\n",
    "print(\"a=\",a, \"b=\",b, \"c=\",c, \"d=\",d)\n",
    "\n",
    "#NOTE: At the time of tuple unpacking the number of variables and number of values should be same, otherwise you will get value error."
   ]
  }
 ],
 "metadata": {
  "kernelspec": {
   "display_name": "Python 3 (ipykernel)",
   "language": "python",
   "name": "python3"
  },
  "language_info": {
   "codemirror_mode": {
    "name": "ipython",
    "version": 3
   },
   "file_extension": ".py",
   "mimetype": "text/x-python",
   "name": "python",
   "nbconvert_exporter": "python",
   "pygments_lexer": "ipython3",
   "version": "3.11.5"
  }
 },
 "nbformat": 4,
 "nbformat_minor": 5
}
