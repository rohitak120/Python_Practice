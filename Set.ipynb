{
 "cells": [
  {
   "cell_type": "markdown",
   "id": "1d21fa32-1d4a-4d87-b672-aa74eb09910f",
   "metadata": {},
   "source": [
    "# SET:\n",
    "1. Works on unique order.\n",
    "2. It does not work on index or index concept is not applicable.\n",
    "3. Does not maintion insertion order.\n",
    "4. Hetrogeneous objects are allowed.\n",
    "5. It is mutable.\n",
    "6. We cannot use slicing method in set data type.\n",
    "7. It do not add duplicate object.\n",
    "8. Item assignment is not applicable."
   ]
  },
  {
   "cell_type": "code",
   "execution_count": 1,
   "id": "381162f2-9d8c-42ab-955a-b1f0b7a14e76",
   "metadata": {},
   "outputs": [
    {
     "name": "stdout",
     "output_type": "stream",
     "text": [
      "{True, 100.99, 100, 'Emli', 'Aam'}\n",
      "<class 'set'>\n"
     ]
    }
   ],
   "source": [
    "s = {\"Aam\", \"Emli\", 100, True, 100.99}\n",
    "print(s)\n",
    "print(type(s))"
   ]
  },
  {
   "cell_type": "markdown",
   "id": "cfa200a3-b4ee-4e67-9804-8f2c5ba58b02",
   "metadata": {},
   "source": [
    "# add(): to add new value in the Set.\n",
    "# remove(): to remove object which provide in parameter\n",
    "append() is not applicable in the set. If used return attribute error."
   ]
  },
  {
   "cell_type": "code",
   "execution_count": 2,
   "id": "4014a789-2648-4555-aed2-dda8510f2242",
   "metadata": {},
   "outputs": [
    {
     "name": "stdout",
     "output_type": "stream",
     "text": [
      "{True, 100.99, 100, 'Emli', 'Aam', 'Anar'}\n",
      "{True, 100.99, 100, 'Emli', 'Anar'}\n"
     ]
    }
   ],
   "source": [
    "s.add(\"Anar\")\n",
    "print(s)\n",
    "s.remove(\"Aam\")\n",
    "print(s)\n",
    "# s[0] = \"Nimbu\" not applicable"
   ]
  },
  {
   "cell_type": "code",
   "execution_count": 3,
   "id": "1ba426f8-2ad6-4be6-852b-7ea617e297b5",
   "metadata": {},
   "outputs": [
    {
     "name": "stdout",
     "output_type": "stream",
     "text": [
      "{'Aam', 'Kela'}\n"
     ]
    }
   ],
   "source": [
    "# duplicate object will not add.\n",
    "s1 = {\"Aam\", \"Kela\",\"Aam\"}\n",
    "print(s1)"
   ]
  },
  {
   "cell_type": "markdown",
   "id": "c3a858d3-572a-4cfc-9a64-b73bb6fd132a",
   "metadata": {},
   "source": [
    "# How to make empty set:\n",
    "while creating empty set compulsory we should use 'set()' function."
   ]
  },
  {
   "cell_type": "code",
   "execution_count": 4,
   "id": "1ccde47d-524e-4338-8fd9-c5cb5d76dd93",
   "metadata": {},
   "outputs": [
    {
     "name": "stdout",
     "output_type": "stream",
     "text": [
      "<class 'dict'>\n"
     ]
    }
   ],
   "source": [
    "set1 = {}\n",
    "print(type(set1))"
   ]
  },
  {
   "cell_type": "code",
   "execution_count": 5,
   "id": "1d238345-92c7-4209-8d83-bc14f4577bf3",
   "metadata": {},
   "outputs": [
    {
     "name": "stdout",
     "output_type": "stream",
     "text": [
      "<class 'set'>\n"
     ]
    }
   ],
   "source": [
    "set1 = {10}\n",
    "print(type(set1))"
   ]
  },
  {
   "cell_type": "code",
   "execution_count": 6,
   "id": "e3e680a0-3a35-4a8a-ad93-9cce8e9a90aa",
   "metadata": {},
   "outputs": [
    {
     "name": "stdout",
     "output_type": "stream",
     "text": [
      "<class 'set'>\n"
     ]
    }
   ],
   "source": [
    "# set(): to make empty set\n",
    "set1 = set({})\n",
    "print(type(s))"
   ]
  },
  {
   "cell_type": "markdown",
   "id": "85c9d241-874d-46e0-8ac2-a9b129bb6acb",
   "metadata": {},
   "source": [
    "# convert list into set:"
   ]
  },
  {
   "cell_type": "code",
   "execution_count": 7,
   "id": "98b559b6-d8dd-4b54-b65b-971ef0740644",
   "metadata": {},
   "outputs": [
    {
     "name": "stdout",
     "output_type": "stream",
     "text": [
      "<class 'set'>\n",
      "{10, 20, 30}\n"
     ]
    }
   ],
   "source": [
    "list = [10, 20, 30]\n",
    "set1 = set(list)\n",
    "print(type(set1))\n",
    "print(set1)"
   ]
  },
  {
   "cell_type": "markdown",
   "id": "44263461-4032-4d9f-b897-eb9ea990cacf",
   "metadata": {},
   "source": [
    "# Important function of Set:\n",
    "1. add()\n",
    "2. update() multiple value add\n",
    "3. copy()\n",
    "4. pop()\n",
    "5. remove()\n",
    "6. discord()\n",
    "7. clear()"
   ]
  },
  {
   "cell_type": "code",
   "execution_count": 8,
   "id": "7bd76c18-1527-4a4c-b9f8-14c1a0c94e5f",
   "metadata": {},
   "outputs": [
    {
     "name": "stdout",
     "output_type": "stream",
     "text": [
      "{40, 10, 20, 30}\n",
      "{40, 10, 50, 20, 30}\n"
     ]
    }
   ],
   "source": [
    "# add(): to add an item in the set.\n",
    "set_1 = {10, 20,  30, 40}\n",
    "print(set_1)\n",
    "set_1.add(50)\n",
    "print(set_1)"
   ]
  },
  {
   "cell_type": "code",
   "execution_count": 10,
   "id": "7bd157f2-ab10-45cf-927e-07416b0268d4",
   "metadata": {},
   "outputs": [
    {
     "name": "stdout",
     "output_type": "stream",
     "text": [
      "{1, 2, 3, 4, 5, 6, 7, 8, 9}\n"
     ]
    }
   ],
   "source": [
    "# update(): we can add multiple values into a set using update() method.\n",
    "S = set({})\n",
    "list = [1,2,3]\n",
    "s = {4,5,6}\n",
    "t = (7,8,9)\n",
    "S.update(list,s,t)\n",
    "print(S)"
   ]
  },
  {
   "cell_type": "code",
   "execution_count": 11,
   "id": "03f0f942-9812-42f1-a646-e0b0417c8c0b",
   "metadata": {},
   "outputs": [
    {
     "name": "stdout",
     "output_type": "stream",
     "text": [
      "{1, 2, 3, 4, 5, 6, 7, 8, 9, 10}\n"
     ]
    }
   ],
   "source": [
    "s = {1,2,3}\n",
    "l = [4,5,6]\n",
    "s.update(l,range(7,11,1))\n",
    "print(s)"
   ]
  },
  {
   "cell_type": "markdown",
   "id": "00ed058f-6c6e-493a-9370-61ba8b22ed73",
   "metadata": {},
   "source": [
    "=> what is the difference between add() and update() function in python?\n",
    "\n",
    "> We can use add() function to addd individual item  to the set, where a we an use update() function to add multiple items to set.\n",
    "> add() function can take only one argument where as update() function can take any number of \n",
    "arguments. But all arguments should be iteraable objects.\n",
    "iterable objects=> list, set, range, etc"
   ]
  },
  {
   "cell_type": "code",
   "execution_count": 13,
   "id": "476edc32-e2dd-4fc1-be79-ea6b3f71f099",
   "metadata": {},
   "outputs": [
    {
     "name": "stdout",
     "output_type": "stream",
     "text": [
      "{1, 2, 3}\n",
      "{10, 1, 2, 3}\n",
      "{1, 2, 3}\n",
      "<class 'set'>\n"
     ]
    }
   ],
   "source": [
    "# copy(): to make another copy of a set\n",
    "s = {1,2,3}\n",
    "s1 = s.copy()\n",
    "print(s)\n",
    "s.add(10)\n",
    "print(s)\n",
    "print(s1)\n",
    "print(type(s1))"
   ]
  },
  {
   "cell_type": "code",
   "execution_count": 18,
   "id": "bd4ff17d-099e-4122-bb46-89075e419bc3",
   "metadata": {},
   "outputs": [
    {
     "name": "stdout",
     "output_type": "stream",
     "text": [
      "{1, 2, 3, 36, 38, 10, 48, 58}\n",
      "1\n",
      "{2, 3, 36, 38, 10, 48, 58}\n"
     ]
    }
   ],
   "source": [
    "# pop(): It removes and return some random element from the set.\n",
    "s = {1,2,3,36,10,3,38,48,58}\n",
    "print(s)\n",
    "print(s.pop())\n",
    "print(s)"
   ]
  },
  {
   "cell_type": "code",
   "execution_count": 24,
   "id": "576dd261-96b5-4c7b-bef4-a2af7fa50b20",
   "metadata": {},
   "outputs": [
    {
     "name": "stdout",
     "output_type": "stream",
     "text": [
      "{1, 2, 3, 36, 38, 48, 58}\n"
     ]
    }
   ],
   "source": [
    "s = {1,2,3,36,10,3,38,48,58}\n",
    "s.remove(10) # if the element not present in the set it gives key error\n",
    "print(s)\n",
    "s.discard(131) # does not return any error"
   ]
  },
  {
   "cell_type": "code",
   "execution_count": 25,
   "id": "703a432f-af3d-440a-a35d-1758898e7132",
   "metadata": {},
   "outputs": [
    {
     "name": "stdout",
     "output_type": "stream",
     "text": [
      "{1, 2, 3, 36, 38, 10, 48, 58}\n",
      "set()\n"
     ]
    }
   ],
   "source": [
    "# clear(): to clear all items form the set.\n",
    "s = {1,2,3,36,10,3,38,48,58}\n",
    "print(s)\n",
    "s.clear()\n",
    "print(s)"
   ]
  },
  {
   "cell_type": "markdown",
   "id": "5c65acc5-d7ab-4ca5-b970-7dd50dafd1fb",
   "metadata": {},
   "source": [
    "# Mathematical operation of Set:\n",
    "1. union()\n",
    "2. intersection()\n",
    "3. difference()\n",
    "4. symmetric_difference"
   ]
  },
  {
   "cell_type": "code",
   "execution_count": 26,
   "id": "a635f002-c00c-47f1-8efc-592f725227d6",
   "metadata": {},
   "outputs": [
    {
     "name": "stdout",
     "output_type": "stream",
     "text": [
      "{1, 2, 3, 4, 5, 6, 7, 8, 9, 10, 80, 90, 60}\n",
      "{1, 2, 3, 4, 5, 6, 7, 8, 9, 10, 40, 50, 30}\n",
      "{1, 2, 3, 4, 5, 6, 7, 8, 9, 10, 80, 90, 30, 40, 50, 60}\n"
     ]
    }
   ],
   "source": [
    "# union():\n",
    "s1 = {1,2,3,4,5,6,7,8,9,10,60,80,90}\n",
    "s2= {1,2,3,4,5,6,7,8,9,10,30,40,50}\n",
    "s3 = s1.union(s2) # s3= s1/s2\n",
    "print(s1)\n",
    "print(s2)\n",
    "print(s3)"
   ]
  },
  {
   "cell_type": "code",
   "execution_count": 28,
   "id": "14909180-ee51-488c-8fdd-3db2475b4053",
   "metadata": {},
   "outputs": [
    {
     "name": "stdout",
     "output_type": "stream",
     "text": [
      "{1, 2, 3, 4, 5, 6, 7, 8, 9, 10, 80, 90, 60}\n",
      "{1, 2, 3, 4, 5, 6, 7, 8, 9, 10, 40, 50, 30}\n",
      "{1, 2, 3, 4, 5, 6, 7, 8, 9, 10}\n"
     ]
    }
   ],
   "source": [
    "# intersection():\n",
    "print(s1)\n",
    "print(s2)\n",
    "s3 = s1.intersection(s2) # s4= s1&s2\n",
    "print(s3)"
   ]
  },
  {
   "cell_type": "code",
   "execution_count": 29,
   "id": "78ddbf52-3b2d-4475-8c9e-d8dbc2a9ac19",
   "metadata": {},
   "outputs": [
    {
     "name": "stdout",
     "output_type": "stream",
     "text": [
      "{1, 2, 3, 4, 5, 6, 7, 8, 9, 10, 80, 90, 60}\n",
      "{1, 2, 3, 4, 5, 6, 7, 8, 9, 10, 40, 50, 30}\n",
      "{80, 90, 60}\n",
      "{80, 90, 60}\n"
     ]
    }
   ],
   "source": [
    "# difference(): Return the elements present in s1 but not in s2.\n",
    "s1 = {1,2,3,4,5,6,7,8,9,10,60,80,90}\n",
    "s2= {1,2,3,4,5,6,7,8,9,10,30,40,50}\n",
    "print(s1)\n",
    "print(s2)\n",
    "s3 = s1.difference(s2)\n",
    "s4 = s1-s2\n",
    "print(s3)\n",
    "print(s4)"
   ]
  },
  {
   "cell_type": "code",
   "execution_count": 30,
   "id": "72af0f1b-38d9-41b9-9ee2-10391f513738",
   "metadata": {},
   "outputs": [
    {
     "name": "stdout",
     "output_type": "stream",
     "text": [
      "{1, 2, 3, 4, 5, 6, 7, 8, 9, 10, 80, 90, 60}\n",
      "{1, 2, 3, 4, 5, 6, 7, 8, 9, 10, 40, 50, 30}\n",
      "{40, 80, 50, 90, 60, 30}\n",
      "{40, 80, 50, 90, 60, 30}\n"
     ]
    }
   ],
   "source": [
    "# Symmetric_difference(): Return the elements present in either s1 or s2 but not in both.\n",
    "print(s1)\n",
    "print(s2)\n",
    "s3 = s1.symmetric_difference(s2)\n",
    "s4 = s1^s2\n",
    "print(s3)\n",
    "print(s4)"
   ]
  },
  {
   "cell_type": "markdown",
   "id": "948d26f2-ebbf-4108-a310-50cbd0c19abf",
   "metadata": {},
   "source": [
    "# Membership operators of Set:\n",
    "1. in\n",
    "2. not in"
   ]
  },
  {
   "cell_type": "code",
   "execution_count": 35,
   "id": "7d5b8386-3e72-443c-a461-477ae9a3c72a",
   "metadata": {},
   "outputs": [
    {
     "name": "stdout",
     "output_type": "stream",
     "text": [
      "True\n",
      "False\n",
      "True\n",
      "False\n"
     ]
    }
   ],
   "source": [
    "s1 = {1,2,3,4,5,6,7,8,9,10,60,80,90}\n",
    "print(3 in s1)\n",
    "print(3 not in s1)\n",
    "print (34 not in s1)\n",
    "print (34 in s1)"
   ]
  }
 ],
 "metadata": {
  "kernelspec": {
   "display_name": "Python 3 (ipykernel)",
   "language": "python",
   "name": "python3"
  },
  "language_info": {
   "codemirror_mode": {
    "name": "ipython",
    "version": 3
   },
   "file_extension": ".py",
   "mimetype": "text/x-python",
   "name": "python",
   "nbconvert_exporter": "python",
   "pygments_lexer": "ipython3",
   "version": "3.11.5"
  }
 },
 "nbformat": 4,
 "nbformat_minor": 5
}
