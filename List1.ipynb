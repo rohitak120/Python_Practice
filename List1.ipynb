{
 "cells": [
  {
   "cell_type": "markdown",
   "id": "d099ef3c-5922-4125-84ed-ed3ea7323054",
   "metadata": {},
   "source": [
    "# LIST Data Type"
   ]
  },
  {
   "cell_type": "code",
   "execution_count": 1,
   "id": "bc1fe08f-6714-4e26-a412-68f0814d3970",
   "metadata": {},
   "outputs": [
    {
     "name": "stdout",
     "output_type": "stream",
     "text": [
      "<class 'list'>\n",
      "100\n",
      "rohit\n",
      "[100, 100.33, 985]\n",
      "[100, 100.33, 985, True, 'rohit']\n",
      "--------------------\n",
      "100\n",
      "100.33\n",
      "985\n",
      "True\n",
      "rohit\n"
     ]
    }
   ],
   "source": [
    "# List is a collection which maintain intertion order.\n",
    "# We can store multiple duplicate object in the list.\n",
    "l= [100,100.33,985,True, \"rohit\"]\n",
    "print(type(l))\n",
    "print(l[0])\n",
    "print(l[-1])\n",
    "print(l[0:3])\n",
    "print(l[0:])\n",
    "print('-'*20)\n",
    "for i in l:\n",
    "    print(i)"
   ]
  },
  {
   "cell_type": "markdown",
   "id": "e47b8b0b-d0a1-4063-8a2e-4edc012bcefa",
   "metadata": {},
   "source": [
    "# List is a collection which maintain insertion order.\n",
    "# We can stuore multiple duplicate object in the list.\n"
   ]
  },
  {
   "cell_type": "code",
   "execution_count": 2,
   "id": "1fc691ae-f0ef-4dc1-a7da-e065e4a68ea0",
   "metadata": {},
   "outputs": [
    {
     "name": "stdout",
     "output_type": "stream",
     "text": [
      "Rajeev\n",
      "100.99\n",
      "True\n",
      "Kamal\n",
      "200\n",
      "34000\n"
     ]
    }
   ],
   "source": [
    "l1=[100,100.99,True, 'Kamal',200,34000]\n",
    "l1[0] = \"Rajeev\"\n",
    "for i in l1:\n",
    "    print(i)"
   ]
  },
  {
   "cell_type": "code",
   "execution_count": 3,
   "id": "ef27b816-3774-4c72-80d3-30a805ce629f",
   "metadata": {},
   "outputs": [
    {
     "name": "stdout",
     "output_type": "stream",
     "text": [
      "['Rajeev', 'Sanjeev', 'Akash']\n",
      "['Rajeev', 'Sanjeev', 'Akash', 'Chanchal']\n",
      "['Sanjeev', 'Akash', 'Chanchal']\n",
      "Sanjeev\n",
      "Akash\n",
      "Chanchal\n"
     ]
    }
   ],
   "source": [
    "# append() function in list used to insert the item in the last.\n",
    "# remove() is used to delete an item from the list.\n",
    "l2 = [\"Rajeev\",\"Sanjeev\",\"Akash\"]\n",
    "print(l2)\n",
    "l2.append(\"Chanchal\")\n",
    "print(l2)\n",
    "l2.remove(\"Rajeev\")\n",
    "print(l2)\n",
    "for i in l2:\n",
    "    print(i)"
   ]
  },
  {
   "cell_type": "code",
   "execution_count": 4,
   "id": "0d2a30d5-ae1f-4286-89a3-4b5c446238ca",
   "metadata": {},
   "outputs": [
    {
     "name": "stdout",
     "output_type": "stream",
     "text": [
      "['Sharan', 'Akash', 'Chanchal']\n",
      "['Sharan', 'Akash', 'Chanchal', 'Sharan', 'Akash', 'Chanchal', 'Sharan', 'Akash', 'Chanchal']\n"
     ]
    }
   ],
   "source": [
    "l2[0]=\"Sharan\"\n",
    "print(l2)\n",
    "l3 = l2*3\n",
    "print(l3)"
   ]
  },
  {
   "cell_type": "markdown",
   "id": "b568019e-0a02-4e9c-b0cb-54638e35723b",
   "metadata": {},
   "source": [
    "# If we want to represent group of values as a single entity,\n",
    "# where insertion order require to preserve and duplicates are allowed then we should go for list datatype.\n",
    "\n",
    "Note:\n",
    "1 Insertion order  is preserved\n",
    "2 Hetrogeneous objects are allowed\n",
    "3 Duplicates are allowed\n",
    "4 Growable in nature\n",
    "5 Values should be inclosed within square brackets[]\n",
    "6 List object is mutable"
   ]
  },
  {
   "cell_type": "code",
   "execution_count": 5,
   "id": "42f994c5-b3e1-43e8-a702-f6469fe52456",
   "metadata": {},
   "outputs": [
    {
     "name": "stdout",
     "output_type": "stream",
     "text": [
      "<class 'list'>\n",
      "[10, 20, 30, 'Amit', 'Sumit', 'Akash', True, None, 1]\n",
      "10\n",
      "20\n",
      "30\n",
      "Amit\n",
      "Sumit\n",
      "Akash\n",
      "True\n",
      "None\n",
      "1\n"
     ]
    }
   ],
   "source": [
    "# creation of list object\n",
    "list= [10,20,30,\"Amit\",\"Sumit\",\"Akash\",True,None,1]\n",
    "print(type(list))\n",
    "print(list)\n",
    "for i in list:\n",
    "    print(i)"
   ]
  },
  {
   "cell_type": "code",
   "execution_count": 6,
   "id": "8ca87b96-18fc-4070-b490-f9e7caf90122",
   "metadata": {},
   "outputs": [
    {
     "name": "stdin",
     "output_type": "stream",
     "text": [
      "Enter List Objects:  [12,34,4,3,4,5,6,6,7,5]\n"
     ]
    },
    {
     "name": "stdout",
     "output_type": "stream",
     "text": [
      "<class 'list'>\n",
      "[12, 34, 4, 3, 4, 5, 6, 6, 7, 5]\n",
      "12\n",
      "34\n",
      "4\n",
      "3\n",
      "4\n",
      "5\n",
      "6\n",
      "6\n",
      "7\n",
      "5\n"
     ]
    }
   ],
   "source": [
    "list1= eval(input(\"Enter List Objects: \"))\n",
    "print(type(list1))\n",
    "print(list1)\n",
    "for i in list1:\n",
    "    print(i)"
   ]
  },
  {
   "cell_type": "code",
   "execution_count": 7,
   "id": "0f3f20ee-0b2c-40a1-b815-582efbf9f7ce",
   "metadata": {},
   "outputs": [
    {
     "ename": "TypeError",
     "evalue": "'list' object is not callable",
     "output_type": "error",
     "traceback": [
      "\u001b[1;31m---------------------------------------------------------------------------\u001b[0m",
      "\u001b[1;31mTypeError\u001b[0m                                 Traceback (most recent call last)",
      "Cell \u001b[1;32mIn[7], line 1\u001b[0m\n\u001b[1;32m----> 1\u001b[0m lis \u001b[38;5;241m=\u001b[39m \u001b[38;5;28;43mlist\u001b[39;49m\u001b[43m(\u001b[49m\u001b[38;5;28;43mrange\u001b[39;49m\u001b[43m(\u001b[49m\u001b[38;5;241;43m0\u001b[39;49m\u001b[43m,\u001b[49m\u001b[38;5;241;43m10\u001b[39;49m\u001b[43m,\u001b[49m\u001b[38;5;241;43m2\u001b[39;49m\u001b[43m)\u001b[49m\u001b[43m)\u001b[49m\n\u001b[0;32m      2\u001b[0m \u001b[38;5;28mprint\u001b[39m(\u001b[38;5;28mtype\u001b[39m(lis))\n\u001b[0;32m      3\u001b[0m \u001b[38;5;28mprint\u001b[39m(lis)\n",
      "\u001b[1;31mTypeError\u001b[0m: 'list' object is not callable"
     ]
    }
   ],
   "source": [
    "lis = list(range(0,10,2))\n",
    "print(type(lis))\n",
    "print(lis)"
   ]
  },
  {
   "cell_type": "code",
   "execution_count": null,
   "id": "e8d0fc7a-6f2f-4d88-9678-8ee75272ed1c",
   "metadata": {},
   "outputs": [],
   "source": [
    "name = \"rajeev\"\n",
    "li=list(name)\n",
    "print(type(li))\n",
    "print(li)"
   ]
  },
  {
   "cell_type": "code",
   "execution_count": null,
   "id": "a857b9b1-d167-454f-9986-6501874ef778",
   "metadata": {},
   "outputs": [],
   "source": [
    "name= \"Rajeev 'Shishodiya' from Centum Foundation\"\n",
    "li1 = name.split()\n",
    "print(type(li1))\n",
    "print(li1)"
   ]
  },
  {
   "cell_type": "markdown",
   "id": "21d2b6ab-6a3d-4c58-bf73-a0f9f3040740",
   "metadata": {},
   "source": [
    "Creation of List Objects\n",
    "1 list[]\n",
    "2 list[10,20,30]\n",
    "3 list = eval(input(\"Enter List\")) # runtime\n",
    "4 list()function #  conversion\n",
    "5 split() method"
   ]
  },
  {
   "cell_type": "markdown",
   "id": "f9472380-f61e-4378-a637-dbd849be4317",
   "metadata": {},
   "source": [
    "Accessing Elements List Objects:\n",
    "By using index or slice operator\n",
    "list [Start:Stop:Step]\n",
    "Start: start with 0 [Called as offset] [Default value is 0]\n",
    "Stop: start with 1 [called as Length] [Default value is max allowed index of list] [i.e. length of the list]\n",
    "Step: [Default value is 1] "
   ]
  },
  {
   "cell_type": "code",
   "execution_count": null,
   "id": "218adf80-4cbb-4d49-886e-00318ed4907c",
   "metadata": {},
   "outputs": [],
   "source": [
    "li_1 = [10,20,30,40,50]\n",
    "print(li_1[0])\n",
    "print(li_1[-1])\n",
    "print(li_1[2:3])\n",
    "print(li_1[2:])\n",
    "print(li_1[0:5])\n",
    "print(li_1[0:5:2])"
   ]
  },
  {
   "cell_type": "code",
   "execution_count": null,
   "id": "0d6b36a2-f91b-4aa8-b6e2-97f667cdb0e2",
   "metadata": {},
   "outputs": [],
   "source": [
    "li_2 = [10,20,30,40,50,60,70,80,90,100]\n",
    "print(li_2)"
   ]
  },
  {
   "cell_type": "code",
   "execution_count": null,
   "id": "f9874f4e-31ce-461b-a461-5475d50ae744",
   "metadata": {},
   "outputs": [],
   "source": [
    "# creating list using range()\n",
    "li_3 = list(range(10,110,10))\n",
    "print(li_3)"
   ]
  },
  {
   "cell_type": "code",
   "execution_count": null,
   "id": "8c40a4a8-5a72-443c-8a0e-c464ec267ffd",
   "metadata": {},
   "outputs": [],
   "source": [
    "print(li_3[2:7:2])\n",
    "print(li_3[4:2])\n",
    "print(li_3[3:7])\n",
    "print(li_3[8:2:-2])\n",
    "print(li_3[4:100])\n",
    "print(li_3)"
   ]
  },
  {
   "cell_type": "code",
   "execution_count": null,
   "id": "317d4cf6-ba54-42bb-a668-0ba112e96a70",
   "metadata": {},
   "outputs": [],
   "source": [
    "li_3[0] = 999\n",
    "print(li_3)"
   ]
  },
  {
   "cell_type": "markdown",
   "id": "9f93821f-a84d-42e2-96e5-d67839733cad",
   "metadata": {},
   "source": [
    "Traversing the elements List Objects."
   ]
  },
  {
   "cell_type": "code",
   "execution_count": 8,
   "id": "3895844c-b0f0-40c8-9b83-d9b40235ac2a",
   "metadata": {},
   "outputs": [
    {
     "name": "stdout",
     "output_type": "stream",
     "text": [
      "10\n",
      "20\n",
      "30\n",
      "40\n",
      "50\n",
      "60\n",
      "70\n",
      "80\n",
      "90\n",
      "100\n"
     ]
    }
   ],
   "source": [
    "list_1 = [10,20,30,40,50,60,70,80,90,100]\n",
    "for i in list_1:\n",
    "    print(i)"
   ]
  },
  {
   "cell_type": "code",
   "execution_count": 10,
   "id": "3e1ad8a8-f632-4a1d-a29c-1ec1c8269a50",
   "metadata": {},
   "outputs": [
    {
     "name": "stdout",
     "output_type": "stream",
     "text": [
      "10\n",
      "30\n",
      "50\n",
      "70\n",
      "90\n"
     ]
    }
   ],
   "source": [
    "for i in range(0, 10, 2):\n",
    "    print(list_1[i])"
   ]
  },
  {
   "cell_type": "code",
   "execution_count": 11,
   "id": "1707aa26-1abd-4ea6-b9b1-dc2a901eed60",
   "metadata": {},
   "outputs": [
    {
     "name": "stdout",
     "output_type": "stream",
     "text": [
      "10\n",
      "30\n",
      "50\n",
      "70\n",
      "90\n"
     ]
    }
   ],
   "source": [
    "i = 0 \n",
    "while i<len(list_1):\n",
    "    print(list_1[i])\n",
    "    i = i+2"
   ]
  },
  {
   "cell_type": "code",
   "execution_count": 15,
   "id": "0026023a-eaf3-46f2-8135-5334a75832ae",
   "metadata": {},
   "outputs": [
    {
     "name": "stdout",
     "output_type": "stream",
     "text": [
      "2\n",
      "3\n",
      "7\n",
      "3\n",
      "2\n",
      "0\n"
     ]
    }
   ],
   "source": [
    "#Count of the occurance: .count(parameter)\n",
    "list_2 = [10,20,20,30,30,30,30,30,30,40,54,54,40,10,20,40,30]\n",
    "print(list_2.count(10))\n",
    "print(list_2.count(20))\n",
    "print(list_2.count(30))\n",
    "print(list_2.count(40))\n",
    "print(list_2.count(54))\n",
    "print(list_2.count(11))\n",
    "# It return the no of occurness of specified item in the list."
   ]
  },
  {
   "cell_type": "code",
   "execution_count": 18,
   "id": "85788fd9-aa31-49ed-8899-de3eaff2770d",
   "metadata": {},
   "outputs": [
    {
     "name": "stdout",
     "output_type": "stream",
     "text": [
      "0\n",
      "1\n",
      "3\n",
      "9\n"
     ]
    }
   ],
   "source": [
    "# index also counts the occurance of the numbers in a list.\n",
    "# It return the index of first occurness of the specified item.\n",
    "print(list_2.index(10))\n",
    "print(list_2.index(20))\n",
    "print(list_2.index(30))\n",
    "print(list_2.index(40))\n",
    "# t_2.index(50)) #ValueError\n",
    "# It gives ValueError if the item is not found in the list."
   ]
  },
  {
   "cell_type": "code",
   "execution_count": null,
   "id": "d6773a26-4eac-48cd-bb28-f59cf6277c8c",
   "metadata": {},
   "outputs": [],
   "source": []
  }
 ],
 "metadata": {
  "kernelspec": {
   "display_name": "Python 3 (ipykernel)",
   "language": "python",
   "name": "python3"
  },
  "language_info": {
   "codemirror_mode": {
    "name": "ipython",
    "version": 3
   },
   "file_extension": ".py",
   "mimetype": "text/x-python",
   "name": "python",
   "nbconvert_exporter": "python",
   "pygments_lexer": "ipython3",
   "version": "3.11.5"
  }
 },
 "nbformat": 4,
 "nbformat_minor": 5
}
