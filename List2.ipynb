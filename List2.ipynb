{
 "cells": [
  {
   "cell_type": "markdown",
   "id": "4c50b725-8394-480b-889c-f3fb0fe952fb",
   "metadata": {},
   "source": [
    "Manipulating the Elements List Objects:\n",
    "1 append():\n",
    "2 insert():\n",
    "3 extend():"
   ]
  },
  {
   "cell_type": "code",
   "execution_count": 1,
   "id": "05f2ff7c-ee25-495e-95dd-4b9cf401d58c",
   "metadata": {},
   "outputs": [
    {
     "name": "stdout",
     "output_type": "stream",
     "text": [
      "[10, 20, 30, 40, 20, 80]\n",
      "[10, 20, 30, 40, 20, 80, 'Ankit']\n"
     ]
    }
   ],
   "source": [
    "# append(): We can use append function to add item at the end of the list.\n",
    "list = [10,20,30,40,20,80]\n",
    "print(list)\n",
    "list.append(\"Ankit\")\n",
    "print(list)"
   ]
  },
  {
   "cell_type": "code",
   "execution_count": 2,
   "id": "8dcb7fd0-87cf-44b1-8057-4244e24cd69e",
   "metadata": {},
   "outputs": [
    {
     "name": "stdout",
     "output_type": "stream",
     "text": [
      "[10, 'Raman', 20, 30, 40, 20, 80]\n",
      "[10, 'Raman', 20, 30, 40, 20, 80, 'Kamal']\n",
      "[10, 'Dinu', 'Raman', 20, 30, 40, 20, 80, 'Kamal']\n"
     ]
    }
   ],
   "source": [
    "# insert(): If the specified index is greater than max index then element will be inserted in last position.\n",
    "list1 = [10,20,30,40,20,80]\n",
    "list1.insert(1,\"Raman\")\n",
    "print(list1)\n",
    "list1.insert(10,\"Kamal\")\n",
    "print(list1)\n",
    "list1.insert(-7,\"Dinu\")\n",
    "print(list1)\n",
    "# if the specified iindex is smaller than main index then element will be inserted at first position."
   ]
  },
  {
   "cell_type": "code",
   "execution_count": 4,
   "id": "249c8ac3-8589-4f4f-9504-db1f74cc8e09",
   "metadata": {},
   "outputs": [
    {
     "name": "stdout",
     "output_type": "stream",
     "text": [
      "[10, 20, 30, 40, 20, 80, 'Ankit', 10, 'Dinu', 'Raman', 20, 30, 40, 20, 80, 'Kamal']\n"
     ]
    }
   ],
   "source": [
    "# extend(): to add all item of one list to another list.\n",
    "list.extend(list1)\n",
    "print(list)"
   ]
  },
  {
   "cell_type": "code",
   "execution_count": 7,
   "id": "ce634096-740c-448d-8890-f9b15ba8c3f2",
   "metadata": {},
   "outputs": [
    {
     "name": "stdout",
     "output_type": "stream",
     "text": [
      "[10, 20, 20, 40, 10, 50, 40, 30]\n",
      "[10, 20, 20, 10, 50, 40, 30]\n"
     ]
    }
   ],
   "source": [
    "# remove(): if any list have same object more than one time then it will remove first occurance.\n",
    "list2 = [10,20,20,40,10,50,40,30]\n",
    "print(list2)\n",
    "list2.remove(40)\n",
    "print(list2)\n",
    "# we can use this function to remove specified item from the list.\n",
    "#if the item present multiple times then only first occurness will be removed.\n",
    "# list2.remove(43) #ValueError: list.remove(x): x not in list\n",
    "# if the specified item is not present in the list then you will get value error."
   ]
  },
  {
   "cell_type": "code",
   "execution_count": 2,
   "id": "8024ce0e-481e-4f7f-a607-9831a6830954",
   "metadata": {},
   "outputs": [
    {
     "name": "stdout",
     "output_type": "stream",
     "text": [
      "[10, 20, 20, 40, 10, 50, 40]\n",
      "40\n",
      "[10, 20, 20, 40, 10, 50]\n",
      "40\n",
      "[10, 20, 20, 10, 50]\n"
     ]
    }
   ],
   "source": [
    "# pop(): it removes and returns the last element of the list...\n",
    "list3 = [10,20,20,40,10,50,40]\n",
    "print(list3)\n",
    "print(list3.pop())\n",
    "print(list3)\n",
    "# pop(index) with parameter: to remoce and return element present at specified index.\n",
    "print(list3.pop(3))\n",
    "print(list3)"
   ]
  },
  {
   "cell_type": "code",
   "execution_count": 3,
   "id": "fc894510-630a-4ca8-a1ec-58c1ca5697e1",
   "metadata": {},
   "outputs": [
    {
     "name": "stdout",
     "output_type": "stream",
     "text": [
      "Object not found\n"
     ]
    }
   ],
   "source": [
    "# list3.remove(30) value error : x in not in the list\n",
    "# list3.pop() index error : pop from empty list\n",
    "list4 = [10,20,50,60,80,100]\n",
    "if 30 in list4:\n",
    "    list4.remove(30)\n",
    "    print(list4)\n",
    "else:\n",
    "    print(\"Object not found\")"
   ]
  },
  {
   "cell_type": "code",
   "execution_count": 6,
   "id": "e0f41d56-f449-47d6-8e59-a1e7a18516a8",
   "metadata": {},
   "outputs": [
    {
     "name": "stdin",
     "output_type": "stream",
     "text": [
      "Enter the any number 34\n"
     ]
    },
    {
     "name": "stdout",
     "output_type": "stream",
     "text": [
      "Object not found\n"
     ]
    }
   ],
   "source": [
    "val = int(input(\"Enter the any number\"))\n",
    "if val in list4:\n",
    "    list4.remove(val)\n",
    "    print(\"Object removed\")\n",
    "    print(list4)\n",
    "else:\n",
    "    print(\"Object not found\")"
   ]
  },
  {
   "cell_type": "markdown",
   "id": "c1ed8ff5-484d-40ba-8f18-e27e210eefb7",
   "metadata": {},
   "source": [
    "# reverse() : reverse the list"
   ]
  },
  {
   "cell_type": "code",
   "execution_count": 8,
   "id": "0bb2034a-c592-4f29-a814-fe183d83f6a7",
   "metadata": {},
   "outputs": [
    {
     "name": "stdout",
     "output_type": "stream",
     "text": [
      "[10, 20, 20, 40, 10, 50, 40, 1, 5, 5, 2, 91, 60]\n",
      "[60, 91, 2, 5, 5, 1, 40, 50, 10, 40, 20, 20, 10]\n"
     ]
    }
   ],
   "source": [
    "list5 = [10, 20, 20, 40, 10, 50, 40,1,5,5,2,91,60]\n",
    "print(list5)\n",
    "list5.reverse()\n",
    "print(list5)"
   ]
  },
  {
   "cell_type": "markdown",
   "id": "c78e2224-26ad-4c2f-a48b-adca80e67a1a",
   "metadata": {},
   "source": [
    "# sort(): sort the list\n",
    "to use sort function compulsory list should contain homogeneous elements otherwise you will get type error"
   ]
  },
  {
   "cell_type": "code",
   "execution_count": 11,
   "id": "ecbf8513-d913-4d9e-9216-7af9f8b3ce34",
   "metadata": {},
   "outputs": [
    {
     "name": "stdout",
     "output_type": "stream",
     "text": [
      "[91, 60, 50, 40, 40, 20, 20, 10, 10, 5, 5, 2, 1]\n",
      "[1, 2, 5, 5, 10, 10, 20, 20, 40, 40, 50, 60, 91]\n",
      "[91, 60, 50, 40, 40, 20, 20, 10, 10, 5, 5, 2, 1]\n"
     ]
    }
   ],
   "source": [
    "print(list5)\n",
    "list5.sort()\n",
    "print(list5)\n",
    "list5.sort(reverse = True)\n",
    "print(list5)"
   ]
  },
  {
   "cell_type": "code",
   "execution_count": 12,
   "id": "af368d78-2ef4-48d6-9ff1-5a16d490e1df",
   "metadata": {},
   "outputs": [
    {
     "name": "stdin",
     "output_type": "stream",
     "text": [
      "Enter the any number 45\n",
      "Enter the any number 74\n",
      "Enter the any number 54\n",
      "Enter the any number 95\n",
      "Enter the any number 55\n"
     ]
    },
    {
     "name": "stdout",
     "output_type": "stream",
     "text": [
      "Max value is: 95\n"
     ]
    }
   ],
   "source": [
    "# program\n",
    "high = 0\n",
    "i = 0\n",
    "while i<5:\n",
    "    num = int(input(\"Enter the any number\"))\n",
    "    if num>high:\n",
    "        high=num\n",
    "    i = i+1\n",
    "else:\n",
    "    print(\"Max value is:\", high)"
   ]
  },
  {
   "cell_type": "markdown",
   "id": "84b4635d-3df7-4c5a-aeb7-1949a86c1a95",
   "metadata": {},
   "source": [
    "# Aliasing of List Object:\n",
    "1. The process of givinganother reference variable to the existing list is called Aliasing.\n",
    "2. The problem in this approach is by using one reference variable if we are changing content then those changes will be reflected to the other reference variable."
   ]
  },
  {
   "cell_type": "code",
   "execution_count": 15,
   "id": "4ece102c-181c-4448-8f88-2372f94975a4",
   "metadata": {},
   "outputs": [
    {
     "name": "stdout",
     "output_type": "stream",
     "text": [
      "2741329995008\n",
      "2741329995008\n",
      "Shweta Object [100, 200, 300, 400]\n",
      "Anshika Object [100, 200, 300, 400]\n",
      "After Modifying the object by Anshika\n",
      "Shweta Object [100, 9999, 300, 400]\n",
      "Anshika Object [100, 9999, 300, 400]\n"
     ]
    }
   ],
   "source": [
    "Shweta = [100,200,300,400]\n",
    "Anshika = Shweta\n",
    "print(id(Shweta))\n",
    "print(id(Anshika))\n",
    "print(\"Shweta Object\",Shweta)\n",
    "print(\"Anshika Object\", Anshika)\n",
    "Anshika[1] = 9999\n",
    "print(\"After Modifying the object by Anshika\")\n",
    "print(\"Shweta Object\",Shweta)\n",
    "print(\"Anshika Object\", Anshika)"
   ]
  },
  {
   "cell_type": "markdown",
   "id": "bb345a92-e459-43c3-b23b-87d075e216c2",
   "metadata": {},
   "source": [
    "# Cloning of list object:\n",
    "1. To overcome the problem of 'Aliasing of object' we should go for clonning.\n",
    "2. The process of creating exactly duplicate independent object is called clonning.\n",
    "3. We can implement clonning by using slice [:] operator or by using copy function.\n",
    "   Operator: slice\n",
    "   Function: copy()"
   ]
  },
  {
   "cell_type": "code",
   "execution_count": 16,
   "id": "5191e3bb-b699-4923-b310-bc92642874a3",
   "metadata": {},
   "outputs": [
    {
     "name": "stdout",
     "output_type": "stream",
     "text": [
      "2741330084160\n",
      "2741330090112\n",
      "Shweta Object [100, 200, 300, 400]\n",
      "Anshika Object [100, 200, 300, 400]\n",
      "After Modifying the object by Anshika\n",
      "Shweta Object [100, 200, 300, 400]\n",
      "Anshika Object [100, 9999, 300, 400]\n"
     ]
    }
   ],
   "source": [
    "Shweta = [100,200,300,400]\n",
    "Anshika = Shweta[:] # cloning syntax with slicing operator.\n",
    "\n",
    "print(id(Shweta))\n",
    "print(id(Anshika))\n",
    "\n",
    "print(\"Shweta Object\",Shweta)\n",
    "print(\"Anshika Object\", Anshika)\n",
    "Anshika[1] = 9999\n",
    "print(\"After Modifying the object by Anshika\")\n",
    "print(\"Shweta Object\",Shweta)\n",
    "print(\"Anshika Object\", Anshika)"
   ]
  },
  {
   "cell_type": "code",
   "execution_count": 17,
   "id": "7037285f-1cbd-4386-917f-fb8ce3435aee",
   "metadata": {},
   "outputs": [
    {
     "name": "stdout",
     "output_type": "stream",
     "text": [
      "2741330081792\n",
      "2741330081600\n",
      "Shweta Object [100, 200, 300, 400]\n",
      "Anshika Object [100, 200, 300, 400]\n",
      "After Modifying the object by Anshika\n",
      "Shweta Object [100, 200, 300, 400]\n",
      "Anshika Object [100, 9999, 300, 400]\n"
     ]
    }
   ],
   "source": [
    "Shweta = [100,200,300,400]\n",
    "Anshika = Shweta.copy() # cloning syntax with copy() function.\n",
    "\n",
    "print(id(Shweta))\n",
    "print(id(Anshika))\n",
    "\n",
    "print(\"Shweta Object\",Shweta)\n",
    "print(\"Anshika Object\", Anshika)\n",
    "Anshika[1] = 9999\n",
    "print(\"After Modifying the object by Anshika\")\n",
    "print(\"Shweta Object\",Shweta)\n",
    "print(\"Anshika Object\", Anshika)"
   ]
  },
  {
   "cell_type": "markdown",
   "id": "10989cd8-9cf3-4012-9418-5f33ce0ab808",
   "metadata": {},
   "source": [
    "#    + and *"
   ]
  },
  {
   "cell_type": "code",
   "execution_count": 24,
   "id": "8be62574-0398-4b13-ab90-4a422997b063",
   "metadata": {},
   "outputs": [
    {
     "name": "stdout",
     "output_type": "stream",
     "text": [
      "[100, 200, 300, 10, 20, 30]\n",
      "[100, 200, 300, 10]\n",
      "[100, 200, 300, 100, 200, 300, 100, 200, 300]\n"
     ]
    }
   ],
   "source": [
    "a = [100,200,300]\n",
    "b = [10,20,30]\n",
    "c = a+b\n",
    "print(c)\n",
    "\n",
    "# c = a + 10   => TypeError\n",
    "# to use + operator compulsory both argument should be list objects otherwise you will get type-error.\n",
    "\n",
    "c = a + [10]\n",
    "print(c)\n",
    "\n",
    "c = a*3\n",
    "print(c)"
   ]
  },
  {
   "cell_type": "markdown",
   "id": "f69db57d-324c-4dda-9fc5-314647fc318a",
   "metadata": {},
   "source": [
    "# compare operator: == > >= < <="
   ]
  },
  {
   "cell_type": "code",
   "execution_count": 27,
   "id": "24a91d5d-c6d7-4d7a-93bf-30035d495406",
   "metadata": {},
   "outputs": [
    {
     "name": "stdout",
     "output_type": "stream",
     "text": [
      "True\n",
      "True\n",
      "False\n",
      "False\n"
     ]
    }
   ],
   "source": [
    "a = ['Amit','Sumit','Akash']\n",
    "b = ['Amit','Sumit','Akash']\n",
    "c = ['AMIT','SUMIT','AKASH']\n",
    "print(a==b)\n",
    "print(a==a)\n",
    "print(a==c)\n",
    "print(b==c)"
   ]
  },
  {
   "cell_type": "code",
   "execution_count": 29,
   "id": "c6a669cf-1419-4a2e-a65f-e2d5e8be06c9",
   "metadata": {},
   "outputs": [
    {
     "name": "stdout",
     "output_type": "stream",
     "text": [
      "False\n",
      "False\n",
      "True\n",
      "True\n"
     ]
    }
   ],
   "source": [
    "b = [5,100,200,300,400,500]\n",
    "a = [2,10,20,30]\n",
    "print(a>b)\n",
    "print(a>=b)\n",
    "print(a<b)\n",
    "print(a<=b)\n",
    "# it checks first index value from both list."
   ]
  },
  {
   "cell_type": "markdown",
   "id": "d18026d2-54e7-4cce-8a9a-50dc2af0e0ce",
   "metadata": {},
   "source": [
    "1. Whenever we are using relational operators between list objects only first element comparison will be perdorm.\n",
    "2. The object should be homogeneous."
   ]
  },
  {
   "cell_type": "markdown",
   "id": "b4316b8d-db7b-4ceb-9bc4-b0bbec22942a",
   "metadata": {},
   "source": [
    "# Membership Operator:\n",
    "1. in operator\n",
    "2. not in operator"
   ]
  },
  {
   "cell_type": "markdown",
   "id": "7f188102-16cb-4502-ab78-eff603111151",
   "metadata": {},
   "source": [
    "# clear() : to clear the list element."
   ]
  },
  {
   "cell_type": "code",
   "execution_count": 30,
   "id": "9445dff0-a072-4009-b1a9-8e3107af410c",
   "metadata": {},
   "outputs": [
    {
     "name": "stdout",
     "output_type": "stream",
     "text": [
      "[0, 100, 200, 300, 400, 500]\n",
      "[]\n"
     ]
    }
   ],
   "source": [
    "x = [0,100,200,300,400,500]\n",
    "print(x)\n",
    "x.clear()\n",
    "print(x)"
   ]
  },
  {
   "cell_type": "markdown",
   "id": "3e579b0f-4a1a-4e7a-bbfb-4f41822378af",
   "metadata": {},
   "source": [
    "# Nested list: some times we can take one list into another list such type of lists are called Nested list\n"
   ]
  },
  {
   "cell_type": "code",
   "execution_count": 31,
   "id": "3ee4a0ed-28fa-4bd5-86c2-07b12114b9b3",
   "metadata": {},
   "outputs": [
    {
     "name": "stdout",
     "output_type": "stream",
     "text": [
      "[10, 20, 30, 40, [101, 102, 103], 'amit', True, 12.0]\n",
      "10\n",
      "[101, 102, 103]\n",
      "101\n"
     ]
    }
   ],
   "source": [
    "Nested_list = [10,20,30,40,[101,102,103],\"amit\", True,12.00]\n",
    "print(Nested_list)\n",
    "print(Nested_list[0])\n",
    "print(Nested_list[4])\n",
    "print(Nested_list[4][0])\n",
    "#we can access nested list elements by using index just like accessing multidimensional array elements."
   ]
  }
 ],
 "metadata": {
  "kernelspec": {
   "display_name": "Python 3 (ipykernel)",
   "language": "python",
   "name": "python3"
  },
  "language_info": {
   "codemirror_mode": {
    "name": "ipython",
    "version": 3
   },
   "file_extension": ".py",
   "mimetype": "text/x-python",
   "name": "python",
   "nbconvert_exporter": "python",
   "pygments_lexer": "ipython3",
   "version": "3.11.5"
  }
 },
 "nbformat": 4,
 "nbformat_minor": 5
}
